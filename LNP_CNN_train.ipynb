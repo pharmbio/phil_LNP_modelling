{
 "cells": [
  {
   "cell_type": "markdown",
   "metadata": {},
   "source": [
    "## CNN for t=1 to t=20\n",
    "Taking first three convolutional and pooling layers (first three blocks) of VGG16. In the final block extract the final convolutional layer and add on top of the network the following layers:\n",
    "1. Batch normalization\n",
    "2. Global average pooling\n",
    "3. Latent vector\n",
    "4. Batch normalization (size 32 - this is the feature vector for use in the time-series modelling)\n",
    "5. RELU activation\n",
    "6. Final dense layer of size 1 (with a sigmoid activation for classification mode and no activation when in prediction/regression mode).\n",
    "\n",
    "\n",
    "### Modelling info\n",
    "5 fold cross-validation on training data. Binary cross-entropy loss for classification and MSE loss for the regressor along with the Adam optimizer (with a learning rate of 0.001). Batch size of 32. Training for 50 epochs with the base model frozen. 50 epochs was sufficient for convergence. Unfreezing the base after and training for more epochs did not lower the validation loss, so here the base is kept frozen. 90 degree rotations and mirroring were used to augment the training data to 8 times its size. Augmentation was also used on the validation data (and will also be used in the end, in later notebooks, on the test data). Save best weights as go along and best model at the end."
   ]
  },
  {
   "cell_type": "code",
   "execution_count": 1,
   "metadata": {},
   "outputs": [
    {
     "data": {
      "text/html": [
       "<style>.container { width:100% !important; }</style>"
      ],
      "text/plain": [
       "<IPython.core.display.HTML object>"
      ]
     },
     "metadata": {},
     "output_type": "display_data"
    }
   ],
   "source": [
    "from IPython.core.display import display, HTML\n",
    "display(HTML(\"<style>.container { width:100% !important; }</style>\"))"
   ]
  },
  {
   "cell_type": "code",
   "execution_count": 2,
   "metadata": {},
   "outputs": [
    {
     "name": "stderr",
     "output_type": "stream",
     "text": [
      "Using TensorFlow backend.\n"
     ]
    },
    {
     "data": {
      "text/plain": [
       "'2.2.4'"
      ]
     },
     "execution_count": 2,
     "metadata": {},
     "output_type": "execute_result"
    }
   ],
   "source": [
    "from __future__ import absolute_import\n",
    "from __future__ import division\n",
    "from __future__ import print_function\n",
    "import keras\n",
    "keras.__version__"
   ]
  },
  {
   "cell_type": "code",
   "execution_count": 3,
   "metadata": {},
   "outputs": [],
   "source": [
    "import numpy as np\n",
    "import matplotlib.pyplot as plt\n",
    "import pandas as pd\n",
    "import cv2\n",
    "import re\n",
    "import glob\n",
    "from keras.applications.vgg16 import VGG16\n",
    "from keras.preprocessing import image\n",
    "from keras.applications.vgg16 import preprocess_input\n",
    "from keras.models import Model\n",
    "from keras.layers import Dense, Flatten, Activation, BatchNormalization, GlobalAveragePooling2D\n",
    "from keras.optimizers import RMSprop, Adam\n",
    "from keras import backend as K\n",
    "from sklearn.metrics import confusion_matrix\n",
    "from sklearn.metrics import classification_report\n",
    "from sklearn.utils import class_weight\n",
    "from datetime import datetime"
   ]
  },
  {
   "cell_type": "code",
   "execution_count": 4,
   "metadata": {},
   "outputs": [],
   "source": [
    "def atoi(text):\n",
    "    return int(text) if text.isdigit() else text\n",
    "\n",
    "def natural_keys(text):\n",
    "    return [atoi(c) for c in re.split('(\\d+)', text)]"
   ]
  },
  {
   "cell_type": "code",
   "execution_count": 5,
   "metadata": {},
   "outputs": [],
   "source": [
    "def plot_history(model_history, model_name, fit_method):\n",
    "    fig = plt.figure(figsize=(8,5), facecolor='w')\n",
    "    ax = fig.add_subplot(111)\n",
    "    ax.plot(model_history.history['loss'])\n",
    "    ax.plot(model_history.history['val_loss'])\n",
    "    ax.set(title=model_name + ': Model loss', ylabel='Loss', xlabel='Epoch')\n",
    "    ax.legend(['Train', 'Test'], loc='upper right')\n",
    "    plt.show()\n",
    "    plt.close()"
   ]
  },
  {
   "cell_type": "code",
   "execution_count": 6,
   "metadata": {},
   "outputs": [],
   "source": [
    "def get_image(path, stats, rescale_method):\n",
    "    img = np.load(path)\n",
    "    img = img.astype('float32')\n",
    "    return img"
   ]
  },
  {
   "cell_type": "code",
   "execution_count": 7,
   "metadata": {},
   "outputs": [],
   "source": [
    "def get_gfp(path, stats, rescale_method, fit_method, gfp_thresh):\n",
    "    gfp = np.load(path)\n",
    "    if fit_method == 'classify':\n",
    "        if gfp <= gfp_thresh:\n",
    "            res = 0.\n",
    "        else:\n",
    "            res = 1.\n",
    "    if fit_method == 'regress':\n",
    "        if rescale_method == 'log':\n",
    "            res = np.log(gfp)\n",
    "        if rescale_method == 'log_center':\n",
    "            res = np.log(gfp) - np.log(stats[2])\n",
    "        if rescale_method == 'normalize':\n",
    "            res = (gfp - stats[0])/(stats[1] - stats[0])\n",
    "        if rescale_method == 'standardize':\n",
    "            res = (gfp - stats[2])/stats[3]\n",
    "        if rescale_method == 'log_normalize':\n",
    "            res = (np.log(gfp) - np.log(stats[0]))/(np.log(stats[1]) - np.log(stats[0]))\n",
    "        if rescale_method == 'log_standardize':\n",
    "            res = (np.log(gfp) - np.log(stats[2]))/np.log(stats[3])\n",
    "    return res"
   ]
  },
  {
   "cell_type": "code",
   "execution_count": 8,
   "metadata": {},
   "outputs": [],
   "source": [
    "def rotate90xDegrees(img):\n",
    "    ret =[]\n",
    "    rows, cols = img.shape\n",
    "    for i in range(1,4):\n",
    "        M = cv2.getRotationMatrix2D((cols/2,rows/2),i*90,1)\n",
    "        ret.append(cv2.warpAffine(img,M,(cols,rows)))\n",
    "    return ret"
   ]
  },
  {
   "cell_type": "code",
   "execution_count": 9,
   "metadata": {},
   "outputs": [],
   "source": [
    "def augment_image(img, aug_no):\n",
    "    img_new = np.zeros((img.shape)).astype('float32')\n",
    "    rows, cols, chans = img.shape\n",
    "    for i in range(chans):\n",
    "        if aug_no == 0:\n",
    "            img_new[:, :, i] = img[:, :, i]\n",
    "        if aug_no == 1:\n",
    "            img_new[:, :, i] = np.flipud(img[:, :, i])\n",
    "        if aug_no == 2:\n",
    "            img_new[:, :, i] = np.fliplr(img[:, :, i])\n",
    "        if aug_no == 3:\n",
    "            ud = np.flipud(img[:, :, i])\n",
    "            img_new[:, :, i] = np.fliplr(ud)\n",
    "        if aug_no == 4:\n",
    "            img_new[:, :, i] = rotate90xDegrees(img[:, :, i])[0]\n",
    "        if aug_no == 5:\n",
    "            ud = np.flipud(img[:, :, i])\n",
    "            img_new[:, :, i] = rotate90xDegrees(ud)[0]\n",
    "        if aug_no == 6:\n",
    "            lr = np.fliplr(img[:, :, i])\n",
    "            img_new[:, :, i] = rotate90xDegrees(lr)[0]\n",
    "        if aug_no == 7:\n",
    "            ud = np.flipud(img[:, :, i])\n",
    "            udlr = np.fliplr(ud)\n",
    "            img_new[:, :, i] = rotate90xDegrees(udlr)[0]\n",
    "    \n",
    "    return img_new"
   ]
  },
  {
   "cell_type": "code",
   "execution_count": 10,
   "metadata": {},
   "outputs": [],
   "source": [
    "def image_generator(cell_files, gfp_files, batch_size, cell_stats, gfp_stats, \n",
    "                          cell_rescale_method, gfp_rescale_method, fit_method):\n",
    "    while True:\n",
    "        # Select files (paths/indices) for the batch\n",
    "        samp = np.random.choice(np.arange(0, len(cell_files)), size=batch_size, replace=False)\n",
    "        batch_paths_in =  [cell_files[index] for index in samp]\n",
    "        batch_paths_out = [gfp_files[index] for index in samp]\n",
    "        batch_input = []\n",
    "        batch_output = []\n",
    "        aug_nums = np.random.randint(0, 8, batch_size)\n",
    "        \n",
    "        for ii, image_path in enumerate(batch_paths_in):\n",
    "            img = get_image(image_path, stats=cell_stats, rescale_method=cell_rescale_method)\n",
    "            aug_no = aug_nums[ii]\n",
    "            img = augment_image(img, aug_no=aug_no)\n",
    "            batch_input += [img]\n",
    "        \n",
    "        for ii, path in enumerate(batch_paths_out):\n",
    "            target = get_gfp(path, stats=gfp_stats, rescale_method=gfp_rescale_method, \n",
    "                             fit_method=fit_method, gfp_thresh=gfp_stats[4])\n",
    "            batch_output += [target]\n",
    "        \n",
    "        batch_x = np.array(batch_input)\n",
    "        batch_y = np.array(batch_output)\n",
    "        \n",
    "        if fit_method == 'classify':\n",
    "            batch_y = batch_y.astype('int64')\n",
    "        \n",
    "        yield batch_x, batch_y"
   ]
  },
  {
   "cell_type": "markdown",
   "metadata": {},
   "source": [
    "### Data and modelling settings"
   ]
  },
  {
   "cell_type": "code",
   "execution_count": 11,
   "metadata": {},
   "outputs": [],
   "source": [
    "fold = 'fold5' # this is the validation fold, all cells not in this fold used for proper training\n",
    "unfreeze_base = 'False'\n",
    "\n",
    "all_cell_dir = '/scratch-shared/phil/LNP/LNP_data_09/images_train'\n",
    "all_cell = glob.glob(all_cell_dir + '/' '*')\n",
    "all_cell = sorted(all_cell, key = natural_keys)\n",
    "all_gfp_dir = '/scratch-shared/phil/LNP/LNP_data_09/gfp_train'\n",
    "\n",
    "train_cell = []\n",
    "train_gfp = []\n",
    "\n",
    "valid_cell = []\n",
    "valid_gfp = []\n",
    "\n",
    "for cell in all_cell:\n",
    "    s0 = cell.split('train/')\n",
    "    s1 = s0[1].split('_')\n",
    "    if s1[0] == fold:\n",
    "        valid_cell.append(cell)\n",
    "        f = glob.glob(all_gfp_dir + '/' + s1[1] + '_' + s1[2] + '_T0072_cell_' + s1[5])\n",
    "        valid_gfp.extend(f)\n",
    "    else:\n",
    "        train_cell.append(cell)\n",
    "        f = glob.glob(all_gfp_dir + '/' + s1[1] + '_' + s1[2] + '_T0072_cell_' + s1[5])\n",
    "        train_gfp.extend(f)\n",
    "\n",
    "\n",
    "fit_method = 'regress' # 'classify' or 'regress'\n",
    "# previous explorations showed the following two rescaling methods to be the most appropriate\n",
    "cell_rescale_method = 'standardize'\n",
    "gfp_rescale_method = 'log_center'\n",
    "cell_stats = np.load('/scratch-shared/phil/LNP/LNP_data_09/cell_stats.npy')\n",
    "gfp_stats = np.load('/scratch-shared/phil/LNP/LNP_data_09/gfp_stats.npy')\n",
    "\n",
    "# getting class weights for when in classification mode\n",
    "if fit_method == 'classify':\n",
    "    class_gfp = []\n",
    "    for cell in train_gfp:\n",
    "        gfp = get_gfp(cell, stats=gfp_stats, rescale_method=gfp_rescale_method, \n",
    "                      fit_method=fit_method, gfp_thresh=gfp_stats[4])\n",
    "        class_gfp = np.append(class_gfp, gfp)\n",
    "    class_gfp = class_gfp.astype('int64')\n",
    "    weights = class_weight.compute_class_weight('balanced', np.unique(class_gfp), class_gfp)\n",
    "    print('weights = ' + str(weights))\n",
    "\n",
    "save_best = keras.callbacks.ModelCheckpoint('best.weights', monitor='val_loss', verbose=0, save_best_only=True)\n",
    "batch_size = 32\n",
    "latent_dim = 32\n",
    "num_epochs = 50\n",
    "lr = 0.001"
   ]
  },
  {
   "cell_type": "code",
   "execution_count": 12,
   "metadata": {},
   "outputs": [
    {
     "name": "stdout",
     "output_type": "stream",
     "text": [
      "_________________________________________________________________\n",
      "Layer (type)                 Output Shape              Param #   \n",
      "=================================================================\n",
      "input_1 (InputLayer)         (None, 192, 192, 3)       0         \n",
      "_________________________________________________________________\n",
      "block1_conv1 (Conv2D)        (None, 192, 192, 64)      1792      \n",
      "_________________________________________________________________\n",
      "block1_conv2 (Conv2D)        (None, 192, 192, 64)      36928     \n",
      "_________________________________________________________________\n",
      "block1_pool (MaxPooling2D)   (None, 96, 96, 64)        0         \n",
      "_________________________________________________________________\n",
      "block2_conv1 (Conv2D)        (None, 96, 96, 128)       73856     \n",
      "_________________________________________________________________\n",
      "block2_conv2 (Conv2D)        (None, 96, 96, 128)       147584    \n",
      "_________________________________________________________________\n",
      "block2_pool (MaxPooling2D)   (None, 48, 48, 128)       0         \n",
      "_________________________________________________________________\n",
      "block3_conv1 (Conv2D)        (None, 48, 48, 256)       295168    \n",
      "_________________________________________________________________\n",
      "block3_conv2 (Conv2D)        (None, 48, 48, 256)       590080    \n",
      "_________________________________________________________________\n",
      "block3_conv3 (Conv2D)        (None, 48, 48, 256)       590080    \n",
      "_________________________________________________________________\n",
      "batch_normalization_1 (Batch (None, 48, 48, 256)       1024      \n",
      "_________________________________________________________________\n",
      "global_average_pooling2d_1 ( (None, 256)               0         \n",
      "_________________________________________________________________\n",
      "dense_1 (Dense)              (None, 32)                8224      \n",
      "_________________________________________________________________\n",
      "latent_vector (BatchNormaliz (None, 32)                128       \n",
      "_________________________________________________________________\n",
      "activation_1 (Activation)    (None, 32)                0         \n",
      "_________________________________________________________________\n",
      "dense_2 (Dense)              (None, 1)                 33        \n",
      "=================================================================\n",
      "Total params: 1,744,897\n",
      "Trainable params: 1,744,321\n",
      "Non-trainable params: 576\n",
      "_________________________________________________________________\n"
     ]
    }
   ],
   "source": [
    "pretrained_model = VGG16(weights='imagenet',\n",
    "                         include_top=False,\n",
    "                         input_shape=(192, 192, 3))\n",
    "\n",
    "base_model = Model(inputs=pretrained_model.input, outputs=pretrained_model.get_layer('block3_conv3').output)\n",
    "x = base_model.output\n",
    "x = BatchNormalization()(x)\n",
    "x = GlobalAveragePooling2D()(x)\n",
    "x = Dense(latent_dim)(x)\n",
    "x = BatchNormalization(name='latent_vector')(x)\n",
    "x = Activation('relu')(x)\n",
    "if fit_method == 'classify':\n",
    "    predictions = Dense(1, activation='sigmoid')(x)\n",
    "else:\n",
    "    predictions = Dense(1)(x)\n",
    "\n",
    "model = Model(inputs=base_model.input, outputs=predictions)\n",
    "model.summary()"
   ]
  },
  {
   "cell_type": "markdown",
   "metadata": {},
   "source": [
    "### Model fitting"
   ]
  },
  {
   "cell_type": "code",
   "execution_count": 13,
   "metadata": {},
   "outputs": [
    {
     "data": {
      "image/png": "[encoded data removed]",
      "text/plain": [
       "<Figure size 576x360 with 1 Axes>"
      ]
     },
     "metadata": {},
     "output_type": "display_data"
    },
    {
     "name": "stdout",
     "output_type": "stream",
     "text": [
      "fold5 base frozen: min validation loss = 0.371\n"
     ]
    }
   ],
   "source": [
    "base_model.trainable = False\n",
    "\n",
    "if fit_method == 'classify':\n",
    "    model.compile(optimizer=Adam(lr=lr), loss='binary_crossentropy', metrics=['acc'])\n",
    "else:\n",
    "    model.compile(optimizer=Adam(lr=lr), loss='mse')\n",
    "\n",
    "if fit_method == 'classify':\n",
    "    history = model.fit_generator(\n",
    "        image_generator(train_cell, train_gfp, batch_size, cell_stats, gfp_stats, \n",
    "                        cell_rescale_method, gfp_rescale_method, fit_method),\n",
    "        steps_per_epoch=len(train_cell) // batch_size,\n",
    "        epochs = num_epochs,\n",
    "        validation_data = image_generator(valid_cell, valid_gfp, batch_size, cell_stats, gfp_stats,\n",
    "                                          cell_rescale_method, gfp_rescale_method, fit_method),\n",
    "        validation_steps = len(valid_cell) // batch_size,\n",
    "        callbacks = [save_best],\n",
    "        class_weight = weights,\n",
    "        verbose = 0\n",
    "    )\n",
    "else:\n",
    "    history = model.fit_generator(\n",
    "        image_generator(train_cell, train_gfp, batch_size, cell_stats, gfp_stats, \n",
    "                        cell_rescale_method, gfp_rescale_method, fit_method),\n",
    "        steps_per_epoch=len(train_cell) // batch_size,\n",
    "        epochs = num_epochs,\n",
    "        validation_data = image_generator(valid_cell, valid_gfp, batch_size, cell_stats, gfp_stats,\n",
    "                                          cell_rescale_method, gfp_rescale_method, fit_method),\n",
    "        validation_steps = len(valid_cell) // batch_size,\n",
    "        callbacks = [save_best],\n",
    "        verbose = 0\n",
    "    )  \n",
    "\n",
    "plot_history(history, 'CNN base frozen', fit_method)\n",
    "min_loss = np.round(np.min(history.history['val_loss']), 3)\n",
    "print(fold + ' base frozen: min validation loss = ' + str(min_loss))\n",
    "\n",
    "if unfreeze_base == 'True':   \n",
    "    base_model.trainable = True\n",
    "\n",
    "    if fit_method == 'classify':\n",
    "        model.compile(optimizer=Adam(lr=lr), loss='binary_crossentropy', metrics=['acc'])\n",
    "    else:\n",
    "        model.compile(optimizer=Adam(lr=lr), loss='mse')\n",
    "\n",
    "    if fit_method == 'classify':\n",
    "        history = model.fit_generator(\n",
    "            image_generator(train_cell, train_gfp, batch_size, cell_stats, gfp_stats, \n",
    "                            cell_rescale_method, gfp_rescale_method, fit_method),\n",
    "            steps_per_epoch=len(train_cell) // batch_size,\n",
    "            epochs = num_epochs,\n",
    "            validation_data = image_generator(valid_cell, valid_gfp, batch_size, cell_stats, gfp_stats,\n",
    "                                              cell_rescale_method, gfp_rescale_method, fit_method),\n",
    "            validation_steps = len(valid_cell) // batch_size,\n",
    "            callbacks = [save_best],\n",
    "            class_weight = weights,\n",
    "            verbose = 0\n",
    "        )\n",
    "    else:\n",
    "        history = model.fit_generator(\n",
    "            image_generator(train_cell, train_gfp, batch_size, cell_stats, gfp_stats, \n",
    "                            cell_rescale_method, gfp_rescale_method, fit_method),\n",
    "            steps_per_epoch=len(train_cell) // batch_size,\n",
    "            epochs = num_epochs,\n",
    "            validation_data = image_generator(valid_cell, valid_gfp, batch_size, cell_stats, gfp_stats,\n",
    "                                              cell_rescale_method, gfp_rescale_method, fit_method),\n",
    "            validation_steps = len(valid_cell) // batch_size,\n",
    "            callbacks = [save_best],\n",
    "            verbose = 0\n",
    "        )  \n",
    "\n",
    "    plot_history(history, 'CNN base unfrozen', fit_method)\n",
    "    min_loss = np.round(np.min(history.history['val_loss']), 3)\n",
    "    print(fold + ' base unfrozen: min validation loss = ' + str(min_loss))\n",
    "\n",
    "model.save('/scratch-shared/phil/LNP/LNP_data_09/CNN_' + fit_method + '_' + fold + '.h5')"
   ]
  }
 ],
 "metadata": {
  "kernelspec": {
   "display_name": "Python 3",
   "language": "python",
   "name": "python3"
  },
  "language_info": {
   "codemirror_mode": {
    "name": "ipython",
    "version": 3
   },
   "file_extension": ".py",
   "mimetype": "text/x-python",
   "name": "python",
   "nbconvert_exporter": "python",
   "pygments_lexer": "ipython3",
   "version": "3.5.2"
  }
 },
 "nbformat": 4,
 "nbformat_minor": 4
}
